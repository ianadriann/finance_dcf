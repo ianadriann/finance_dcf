{
 "cells": [
  {
   "cell_type": "code",
   "execution_count": 5,
   "id": "55dbf41a-3245-4bb2-8275-abb8127b4e95",
   "metadata": {},
   "outputs": [],
   "source": [
    "from calendar import c\n",
    "from codecs import ignore_errors\n",
    "from sys import set_coroutine_origin_tracking_depth\n",
    "from tokenize import Ignore\n",
    "from webbrowser import get\n",
    "#from turtle import clear\n",
    "from numpy import append\n",
    "import pandas as pd\n",
    "import pandas\n",
    "import yfinance as yf\n",
    "import datetime\n",
    "import os\n",
    "import string\n",
    "from bs4 import BeautifulSoup\n",
    "from functools import partial, reduce\n",
    "import plotly.graph_objects as go\n",
    "import re\n",
    "import json\n",
    "import csv\n",
    "from io import StringIO\n",
    "import requests\n",
    "import pandas_datareader.data as web\n",
    "from pandas_datareader import data"
   ]
  },
  {
   "cell_type": "code",
   "execution_count": 6,
   "id": "14ea64c5-871e-4804-9157-210b564dc8cd",
   "metadata": {},
   "outputs": [],
   "source": [
    "# url templates\n",
    "url_stats = 'https://finance.yahoo.com/quote/{}/key-statistics?p={}'\n",
    "url_profile = 'https://finance.yahoo.com/quote/{}/profile?p={}'\n",
    "url_financials = 'https://finance.yahoo.com/quote/{}/financials?p={}'\n",
    "url_cashflow = 'https://finance.yahoo.com/quote/{}/cash-flow?p={}'"
   ]
  },
  {
   "cell_type": "code",
   "execution_count": 7,
   "id": "7be5421e-5454-48de-af13-056759004ae3",
   "metadata": {},
   "outputs": [],
   "source": [
    "ticker_kode = \"AALI.JK\""
   ]
  },
  {
   "cell_type": "code",
   "execution_count": 10,
   "id": "916d27bd-3775-4dcf-9b4a-50f9fe518329",
   "metadata": {},
   "outputs": [],
   "source": [
    "ian = {}\n",
    "ian['no'] = 1\n",
    "ian['nama']= 'adrian'"
   ]
  },
  {
   "cell_type": "code",
   "execution_count": 11,
   "id": "1e7c8e51-c007-472d-9fe0-929ebfe17d41",
   "metadata": {},
   "outputs": [
    {
     "data": {
      "text/plain": [
       "{'no': 1, 'nama': 'adrian'}"
      ]
     },
     "execution_count": 11,
     "metadata": {},
     "output_type": "execute_result"
    }
   ],
   "source": [
    "ian"
   ]
  },
  {
   "cell_type": "code",
   "execution_count": 16,
   "id": "430a161f-2993-4b20-a5de-e8ac000986d5",
   "metadata": {},
   "outputs": [],
   "source": [
    "balance_sheet = pd.DataFrame.from_dict(ian,orient='index')"
   ]
  },
  {
   "cell_type": "code",
   "execution_count": 13,
   "id": "b31f9778-414c-43e1-8abc-e42c6278c220",
   "metadata": {},
   "outputs": [
    {
     "data": {
      "text/html": [
       "<div>\n",
       "<style scoped>\n",
       "    .dataframe tbody tr th:only-of-type {\n",
       "        vertical-align: middle;\n",
       "    }\n",
       "\n",
       "    .dataframe tbody tr th {\n",
       "        vertical-align: top;\n",
       "    }\n",
       "\n",
       "    .dataframe thead th {\n",
       "        text-align: right;\n",
       "    }\n",
       "</style>\n",
       "<table border=\"1\" class=\"dataframe\">\n",
       "  <thead>\n",
       "    <tr style=\"text-align: right;\">\n",
       "      <th></th>\n",
       "      <th>0</th>\n",
       "    </tr>\n",
       "  </thead>\n",
       "  <tbody>\n",
       "    <tr>\n",
       "      <th>no</th>\n",
       "      <td>1</td>\n",
       "    </tr>\n",
       "    <tr>\n",
       "      <th>nama</th>\n",
       "      <td>adrian</td>\n",
       "    </tr>\n",
       "  </tbody>\n",
       "</table>\n",
       "</div>"
      ],
      "text/plain": [
       "           0\n",
       "no         1\n",
       "nama  adrian"
      ]
     },
     "execution_count": 13,
     "metadata": {},
     "output_type": "execute_result"
    }
   ],
   "source": [
    "balance_sheet"
   ]
  },
  {
   "cell_type": "code",
   "execution_count": 19,
   "id": "cb3ac598-1d64-4432-9d50-d55a362987d3",
   "metadata": {},
   "outputs": [
    {
     "data": {
      "text/plain": [
       "1792506000000.0"
      ]
     },
     "execution_count": 19,
     "metadata": {},
     "output_type": "execute_result"
    }
   ],
   "source": [
    "float(1.792506e+12)"
   ]
  },
  {
   "cell_type": "code",
   "execution_count": 21,
   "id": "b63d226f-77cd-456c-8830-7119b5069fb3",
   "metadata": {},
   "outputs": [
    {
     "data": {
      "text/plain": [
       "7382445.0"
      ]
     },
     "execution_count": 21,
     "metadata": {},
     "output_type": "execute_result"
    }
   ],
   "source": [
    "3076530.0 + 4305915.0"
   ]
  },
  {
   "cell_type": "code",
   "execution_count": null,
   "id": "637e12a0-ea88-4db7-94ef-82c0b25c041e",
   "metadata": {},
   "outputs": [],
   "source": []
  }
 ],
 "metadata": {
  "kernelspec": {
   "display_name": "Python 3 (ipykernel)",
   "language": "python",
   "name": "python3"
  },
  "language_info": {
   "codemirror_mode": {
    "name": "ipython",
    "version": 3
   },
   "file_extension": ".py",
   "mimetype": "text/x-python",
   "name": "python",
   "nbconvert_exporter": "python",
   "pygments_lexer": "ipython3",
   "version": "3.9.5"
  }
 },
 "nbformat": 4,
 "nbformat_minor": 5
}
